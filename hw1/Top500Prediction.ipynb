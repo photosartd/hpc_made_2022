{
 "cells": [
  {
   "cell_type": "code",
   "execution_count": 64,
   "id": "21e5b068",
   "metadata": {},
   "outputs": [],
   "source": [
    "import json\n",
    "\n",
    "import numpy as np\n",
    "import pandas as pd\n",
    "import matplotlib.pyplot as plt\n",
    "from sklearn.linear_model import LinearRegression"
   ]
  },
  {
   "cell_type": "markdown",
   "id": "58ccc9b8",
   "metadata": {},
   "source": [
    "# 1. Top 500 peak performance in 2025"
   ]
  },
  {
   "cell_type": "code",
   "execution_count": 2,
   "id": "2d18dae2",
   "metadata": {},
   "outputs": [],
   "source": [
    "data = pd.read_excel(\"TOP500_202206.xlsx\")"
   ]
  },
  {
   "cell_type": "code",
   "execution_count": 4,
   "id": "077ae9e4",
   "metadata": {},
   "outputs": [
    {
     "data": {
      "text/plain": [
       "Index(['Rank', 'Previous Rank', 'First Appearance', 'First Rank', 'Name',\n",
       "       'Computer', 'Site', 'Manufacturer', 'Country', 'Year', 'Segment',\n",
       "       'Total Cores', 'Accelerator/Co-Processor Cores', 'Rmax [TFlop/s]',\n",
       "       'Rpeak [TFlop/s]', 'Nmax', 'Nhalf', 'HPCG [TFlop/s]', 'Power (kW)',\n",
       "       'Power Source', 'Energy Efficiency [GFlops/Watts]', 'Memory',\n",
       "       'Architecture', 'Processor', 'Processor Technology',\n",
       "       'Processor Speed (MHz)', 'Operating System', 'OS Family',\n",
       "       'Accelerator/Co-Processor', 'Cores per Socket', 'Processor Generation',\n",
       "       'System Model', 'System Family', 'Interconnect Family', 'Interconnect',\n",
       "       'Continent', 'Site ID', 'System ID'],\n",
       "      dtype='object')"
      ]
     },
     "execution_count": 4,
     "metadata": {},
     "output_type": "execute_result"
    }
   ],
   "source": [
    "data.columns"
   ]
  },
  {
   "cell_type": "markdown",
   "id": "6603c9b0",
   "metadata": {},
   "source": [
    "В данной подзадаче нас интересуют следующие атрибуты:"
   ]
  },
  {
   "cell_type": "code",
   "execution_count": 5,
   "id": "6bf3c6a6",
   "metadata": {},
   "outputs": [],
   "source": [
    "performance_attrs = [\"Rmax [TFlop/s]\", \"Rpeak [TFlop/s]\"]"
   ]
  },
  {
   "cell_type": "code",
   "execution_count": 6,
   "id": "e0a366f4",
   "metadata": {},
   "outputs": [],
   "source": [
    "performance_data = data[performance_attrs]"
   ]
  },
  {
   "cell_type": "code",
   "execution_count": 11,
   "id": "a4c624d5",
   "metadata": {},
   "outputs": [
    {
     "data": {
      "text/html": [
       "<div>\n",
       "<style scoped>\n",
       "    .dataframe tbody tr th:only-of-type {\n",
       "        vertical-align: middle;\n",
       "    }\n",
       "\n",
       "    .dataframe tbody tr th {\n",
       "        vertical-align: top;\n",
       "    }\n",
       "\n",
       "    .dataframe thead th {\n",
       "        text-align: right;\n",
       "    }\n",
       "</style>\n",
       "<table border=\"1\" class=\"dataframe\">\n",
       "  <thead>\n",
       "    <tr style=\"text-align: right;\">\n",
       "      <th></th>\n",
       "      <th>Rmax [TFlop/s]</th>\n",
       "      <th>Rpeak [TFlop/s]</th>\n",
       "    </tr>\n",
       "  </thead>\n",
       "  <tbody>\n",
       "    <tr>\n",
       "      <th>0</th>\n",
       "      <td>1102000.0</td>\n",
       "      <td>1685651.46</td>\n",
       "    </tr>\n",
       "    <tr>\n",
       "      <th>1</th>\n",
       "      <td>442010.0</td>\n",
       "      <td>537212.00</td>\n",
       "    </tr>\n",
       "    <tr>\n",
       "      <th>2</th>\n",
       "      <td>151900.0</td>\n",
       "      <td>214351.87</td>\n",
       "    </tr>\n",
       "    <tr>\n",
       "      <th>3</th>\n",
       "      <td>148600.0</td>\n",
       "      <td>200794.88</td>\n",
       "    </tr>\n",
       "    <tr>\n",
       "      <th>4</th>\n",
       "      <td>94640.0</td>\n",
       "      <td>125712.00</td>\n",
       "    </tr>\n",
       "  </tbody>\n",
       "</table>\n",
       "</div>"
      ],
      "text/plain": [
       "   Rmax [TFlop/s]  Rpeak [TFlop/s]\n",
       "0       1102000.0       1685651.46\n",
       "1        442010.0        537212.00\n",
       "2        151900.0        214351.87\n",
       "3        148600.0        200794.88\n",
       "4         94640.0        125712.00"
      ]
     },
     "execution_count": 11,
     "metadata": {},
     "output_type": "execute_result"
    }
   ],
   "source": [
    "performance_data.head()"
   ]
  },
  {
   "cell_type": "code",
   "execution_count": 13,
   "id": "4596c8d9",
   "metadata": {},
   "outputs": [
    {
     "data": {
      "text/plain": [
       "(500, 2)"
      ]
     },
     "execution_count": 13,
     "metadata": {},
     "output_type": "execute_result"
    }
   ],
   "source": [
    "performance_data.shape"
   ]
  },
  {
   "cell_type": "markdown",
   "id": "474fc647",
   "metadata": {},
   "source": [
    "Оказывается, здесь только данные именно по топ-500, а нам же нужен ряд ТОП-1 за каждые пол года с начала ведения рейтинга. Поискав в интернете, нашел график и спарсил его значения:"
   ]
  },
  {
   "cell_type": "code",
   "execution_count": 16,
   "id": "07ea5d76",
   "metadata": {},
   "outputs": [],
   "source": [
    "with open(\"top500.json\", \"r\") as f:\n",
    "    top500 = json.load(f)"
   ]
  },
  {
   "cell_type": "code",
   "execution_count": 19,
   "id": "bcf0f96f",
   "metadata": {},
   "outputs": [],
   "source": [
    "top1 = {key: val[\"#1\"][0] for key, val in top500.items()}"
   ]
  },
  {
   "cell_type": "markdown",
   "id": "ef307386",
   "metadata": {},
   "source": [
    "Посмотрим, как производительность ТОП-1 суперкомпьютера (в GFlop/s) меняется со временем:"
   ]
  },
  {
   "cell_type": "code",
   "execution_count": 29,
   "id": "d4179e0c",
   "metadata": {},
   "outputs": [
    {
     "data": {
      "image/png": "[encoded data removed]",
      "text/plain": [
       "<Figure size 864x576 with 1 Axes>"
      ]
     },
     "metadata": {
      "needs_background": "light"
     },
     "output_type": "display_data"
    }
   ],
   "source": [
    "fig, ax = plt.subplots(figsize=(12, 8))\n",
    "\n",
    "ax.plot(top1.keys(), top1.values())\n",
    "ax.set_xlabel(\"Date\", fontsize=14)\n",
    "ax.set_ylabel(\"GFlop/s\", fontsize=14)\n",
    "plt.xticks(rotation = 90);"
   ]
  },
  {
   "cell_type": "markdown",
   "id": "828a670c",
   "metadata": {},
   "source": [
    "В логарифмическом масштабе:"
   ]
  },
  {
   "cell_type": "code",
   "execution_count": 30,
   "id": "3c323277",
   "metadata": {},
   "outputs": [
    {
     "data": {
      "image/png": "[encoded data removed]",
      "text/plain": [
       "<Figure size 864x576 with 1 Axes>"
      ]
     },
     "metadata": {
      "needs_background": "light"
     },
     "output_type": "display_data"
    }
   ],
   "source": [
    "fig, ax = plt.subplots(figsize=(12, 8))\n",
    "\n",
    "ax.plot(top1.keys(), top1.values())\n",
    "ax.set_xlabel(\"Date\", fontsize=14)\n",
    "ax.set_ylabel(\"GFlop/s\", fontsize=14)\n",
    "plt.xticks(rotation = 90);\n",
    "plt.yscale(\"log\")"
   ]
  },
  {
   "cell_type": "markdown",
   "id": "3b448bb3",
   "metadata": {},
   "source": [
    "Можно хорошо аппроксимировать линейной регрессией"
   ]
  },
  {
   "cell_type": "code",
   "execution_count": 39,
   "id": "64ee166a",
   "metadata": {},
   "outputs": [],
   "source": [
    "xs = np.array(list(range(len(top1.keys()))))[:, None]"
   ]
  },
  {
   "cell_type": "markdown",
   "id": "1b15e60f",
   "metadata": {},
   "source": [
    "Таргет (логарифмированный для линейности):"
   ]
  },
  {
   "cell_type": "code",
   "execution_count": 66,
   "id": "486ee327",
   "metadata": {},
   "outputs": [],
   "source": [
    "ys = np.log(list(top1.values()))"
   ]
  },
  {
   "cell_type": "code",
   "execution_count": 67,
   "id": "9a3f2a58",
   "metadata": {},
   "outputs": [],
   "source": [
    "model = LinearRegression(normalize=True)"
   ]
  },
  {
   "cell_type": "code",
   "execution_count": 68,
   "id": "56ba090c",
   "metadata": {},
   "outputs": [
    {
     "data": {
      "text/plain": [
       "LinearRegression(normalize=True)"
      ]
     },
     "execution_count": 68,
     "metadata": {},
     "output_type": "execute_result"
    }
   ],
   "source": [
    "model.fit(xs, ys)"
   ]
  },
  {
   "cell_type": "code",
   "execution_count": 69,
   "id": "9b8d134e",
   "metadata": {},
   "outputs": [],
   "source": [
    "new_points = {\n",
    "    59: \"11/2022\",\n",
    "    60: \"06/2023\",\n",
    "    61: \"11/2023\",\n",
    "    62: \"06/2024\",\n",
    "    63: \"11/2024\",\n",
    "    64: \"06/2025\",\n",
    "    65: \"11/2025\"\n",
    "}"
   ]
  },
  {
   "cell_type": "code",
   "execution_count": 70,
   "id": "f94ab8ec",
   "metadata": {},
   "outputs": [],
   "source": [
    "new_xs = np.array(list(range(len(top1.keys()))) + list(new_points.keys()))[:, None]"
   ]
  },
  {
   "cell_type": "markdown",
   "id": "b2f2e08c",
   "metadata": {},
   "source": [
    "Предсказания нужно экспоненцировать, чтобы получить нужные значения (таргет логарифмировали):"
   ]
  },
  {
   "cell_type": "code",
   "execution_count": 71,
   "id": "60129fe2",
   "metadata": {},
   "outputs": [],
   "source": [
    "predicted_performance = np.exp(model.predict(new_xs))"
   ]
  },
  {
   "cell_type": "code",
   "execution_count": 74,
   "id": "5e9e90f9",
   "metadata": {},
   "outputs": [
    {
     "data": {
      "image/png": "[encoded data removed]",
      "text/plain": [
       "<Figure size 864x576 with 1 Axes>"
      ]
     },
     "metadata": {
      "needs_background": "light"
     },
     "output_type": "display_data"
    }
   ],
   "source": [
    "fig, ax = plt.subplots(figsize=(12, 8))\n",
    "\n",
    "ax.plot(top1.keys(), top1.values(), label=\"real\")\n",
    "ax.plot(list(top1.keys()) + list(new_points.values()), predicted_performance, color=\"r\", label=\"prediction\")\n",
    "ax.set_xlabel(\"Date\", fontsize=14)\n",
    "ax.set_ylabel(\"GFlop/s\", fontsize=14)\n",
    "ax.legend()\n",
    "plt.xticks(rotation = 90);\n",
    "plt.yscale(\"log\")"
   ]
  },
  {
   "cell_type": "markdown",
   "id": "7226758b",
   "metadata": {},
   "source": [
    "То есть в конце 2025 года, если все пойдет также, мы получим следующую производительность (Rmax):"
   ]
  },
  {
   "cell_type": "code",
   "execution_count": 78,
   "id": "dde890da",
   "metadata": {},
   "outputs": [
    {
     "name": "stdout",
     "output_type": "stream",
     "text": [
      "14.838624469265277 EFlop/s\n"
     ]
    }
   ],
   "source": [
    "print(f\"{predicted_performance[-1]/ 1e9} EFlop/s\")"
   ]
  },
  {
   "cell_type": "markdown",
   "id": "e44ea9b9",
   "metadata": {},
   "source": [
    "**Ответ:** 14.83 EFlop/s"
   ]
  },
  {
   "cell_type": "markdown",
   "id": "106be579",
   "metadata": {},
   "source": [
    "# 2. Оценка потребляемости электричества суперкомпьютерами из ТОП-500"
   ]
  },
  {
   "cell_type": "code",
   "execution_count": 82,
   "id": "a06c8d43",
   "metadata": {},
   "outputs": [
    {
     "data": {
      "text/plain": [
       "0      21100.00\n",
       "1      29899.23\n",
       "2       2942.13\n",
       "3      10096.00\n",
       "4       7438.28\n",
       "         ...   \n",
       "472     1050.00\n",
       "473      524.28\n",
       "474      807.60\n",
       "477      260.00\n",
       "478      558.60\n",
       "Name: Power (kW), Length: 191, dtype: float64"
      ]
     },
     "execution_count": 82,
     "metadata": {},
     "output_type": "execute_result"
    }
   ],
   "source": [
    "data[\"Power (kW)\"].dropna()"
   ]
  },
  {
   "cell_type": "markdown",
   "id": "6a420312",
   "metadata": {},
   "source": [
    "У нас есть данные не по 500, а только по 191 суперкомпьютеру"
   ]
  },
  {
   "cell_type": "markdown",
   "id": "0a8f4f1a",
   "metadata": {},
   "source": [
    "Суммарная потребляемая энергия (в кВ):"
   ]
  },
  {
   "cell_type": "code",
   "execution_count": 109,
   "id": "d4c8508b",
   "metadata": {},
   "outputs": [],
   "source": [
    "sum_energy_kW = data[\"Power (kW)\"].dropna().sum()"
   ]
  },
  {
   "cell_type": "code",
   "execution_count": 110,
   "id": "1e8b3425",
   "metadata": {},
   "outputs": [
    {
     "data": {
      "text/plain": [
       "340486.45"
      ]
     },
     "execution_count": 110,
     "metadata": {},
     "output_type": "execute_result"
    }
   ],
   "source": [
    "sum_energy_kW"
   ]
  },
  {
   "cell_type": "markdown",
   "id": "83718175",
   "metadata": {},
   "source": [
    "Предположим, что оставшиеся 300 суперкомпьютеров увеличивают эту цифру ~ 2.5 раза"
   ]
  },
  {
   "cell_type": "code",
   "execution_count": 111,
   "id": "58918a0f",
   "metadata": {},
   "outputs": [],
   "source": [
    "sum_energy_kW *= 2.5"
   ]
  },
  {
   "cell_type": "code",
   "execution_count": 112,
   "id": "384e3a6a",
   "metadata": {},
   "outputs": [
    {
     "data": {
      "text/plain": [
       "851216.125"
      ]
     },
     "execution_count": 112,
     "metadata": {},
     "output_type": "execute_result"
    }
   ],
   "source": [
    "sum_energy_kW"
   ]
  },
  {
   "cell_type": "markdown",
   "id": "53b2e41b",
   "metadata": {},
   "source": [
    "Также предположим, что коэффициент загрузки такого оборудования - 0.5 (думается, меньше)"
   ]
  },
  {
   "cell_type": "code",
   "execution_count": 113,
   "id": "d8e9b83c",
   "metadata": {},
   "outputs": [],
   "source": [
    "sum_energy_kW *= 0.5"
   ]
  },
  {
   "cell_type": "code",
   "execution_count": 114,
   "id": "1beb5fff",
   "metadata": {},
   "outputs": [
    {
     "data": {
      "text/plain": [
       "425608.0625"
      ]
     },
     "execution_count": 114,
     "metadata": {},
     "output_type": "execute_result"
    }
   ],
   "source": [
    "sum_energy_kW"
   ]
  },
  {
   "cell_type": "markdown",
   "id": "66649a94",
   "metadata": {},
   "source": [
    "Годовой масштаб:"
   ]
  },
  {
   "cell_type": "code",
   "execution_count": 115,
   "id": "5d300767",
   "metadata": {},
   "outputs": [],
   "source": [
    "sum_energy_kW *= (24 * 365)"
   ]
  },
  {
   "cell_type": "code",
   "execution_count": 116,
   "id": "097db1e8",
   "metadata": {},
   "outputs": [
    {
     "data": {
      "text/plain": [
       "3728326627.5"
      ]
     },
     "execution_count": 116,
     "metadata": {},
     "output_type": "execute_result"
    }
   ],
   "source": [
    "sum_energy_kW"
   ]
  },
  {
   "cell_type": "markdown",
   "id": "50019746",
   "metadata": {},
   "source": [
    "[Здесь](https://energystats.enerdata.net/total-energy/world-consumption-statistics.html) можно найти суммарное потребление в Mtoe за 2021 год. Оно ~ 14000 Mtoe, из которых электроэнергии - 10%"
   ]
  },
  {
   "cell_type": "markdown",
   "id": "fc3aa554",
   "metadata": {},
   "source": [
    "Mtoe -> kW"
   ]
  },
  {
   "cell_type": "code",
   "execution_count": 117,
   "id": "d85d23fe",
   "metadata": {},
   "outputs": [],
   "source": [
    "koeff = 11630000000"
   ]
  },
  {
   "cell_type": "code",
   "execution_count": 118,
   "id": "0c0d4e48",
   "metadata": {},
   "outputs": [],
   "source": [
    "all_energy_cons = 14000 * 0.1 * koeff"
   ]
  },
  {
   "cell_type": "code",
   "execution_count": 119,
   "id": "21f1d6ff",
   "metadata": {},
   "outputs": [
    {
     "data": {
      "text/plain": [
       "16282000000000.0"
      ]
     },
     "execution_count": 119,
     "metadata": {},
     "output_type": "execute_result"
    }
   ],
   "source": [
    "all_energy_cons"
   ]
  },
  {
   "cell_type": "markdown",
   "id": "596688b7",
   "metadata": {},
   "source": [
    "Тогда можно посчитать % от потребляемого мирового электричества как:"
   ]
  },
  {
   "cell_type": "code",
   "execution_count": 120,
   "id": "a3ddbacc",
   "metadata": {},
   "outputs": [
    {
     "name": "stdout",
     "output_type": "stream",
     "text": [
      "0.022898456132539%\n"
     ]
    }
   ],
   "source": [
    "percentage = sum_energy_kW / all_energy_cons * 100\n",
    "print(f\"{percentage}%\")"
   ]
  },
  {
   "cell_type": "markdown",
   "id": "78f1af9c",
   "metadata": {},
   "source": [
    "То есть где-то **0.02 процента от всей электроэнергии**. Кажется, оценка занижена, но какая есть."
   ]
  }
 ],
 "metadata": {
  "kernelspec": {
   "display_name": "Python 3 (ipykernel)",
   "language": "python",
   "name": "python3"
  },
  "language_info": {
   "codemirror_mode": {
    "name": "ipython",
    "version": 3
   },
   "file_extension": ".py",
   "mimetype": "text/x-python",
   "name": "python",
   "nbconvert_exporter": "python",
   "pygments_lexer": "ipython3",
   "version": "3.8.12"
  }
 },
 "nbformat": 4,
 "nbformat_minor": 5
}
