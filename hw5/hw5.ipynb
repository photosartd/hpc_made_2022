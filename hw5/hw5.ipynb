{
 "cells": [
  {
   "cell_type": "code",
   "execution_count": 1,
   "id": "46f25720",
   "metadata": {},
   "outputs": [],
   "source": [
    "import time\n",
    "from math import exp, pow, ceil, pi\n",
    "from typing import Callable\n",
    "\n",
    "import numpy as np\n",
    "import SALib\n",
    "from SALib.sample import saltelli\n",
    "from SALib.analyze import sobol\n",
    "from numba import njit\n",
    "from sympy import N"
   ]
  },
  {
   "cell_type": "code",
   "execution_count": 35,
   "id": "1485818b",
   "metadata": {},
   "outputs": [],
   "source": [
    "import warnings\n",
    "warnings.filterwarnings(\"ignore\")"
   ]
  },
  {
   "cell_type": "markdown",
   "id": "ce760045",
   "metadata": {},
   "source": [
    "# 1. Naive"
   ]
  },
  {
   "cell_type": "code",
   "execution_count": 36,
   "id": "d7686d12",
   "metadata": {},
   "outputs": [],
   "source": [
    "def model(x: np.ndarray):\n",
    "    N = len(x)\n",
    "    sum_ = 0\n",
    "    for i in range(N):\n",
    "        sum_ = sum_ + x[i] ** (N - i)\n",
    "    return sum_"
   ]
  },
  {
   "cell_type": "code",
   "execution_count": 37,
   "id": "ae326374",
   "metadata": {},
   "outputs": [],
   "source": [
    "def full_template(model: Callable, problem: dict, n: int, name: str) -> float:\n",
    "    full_time = 0\n",
    "    print(name)\n",
    "    start = time.time()\n",
    "    param_values = saltelli.sample(problem, n)\n",
    "    end = time.time()\n",
    "    full_time += (end - start)\n",
    "    print(\"Samples generation took {} seconds\".format(end - start))\n",
    "\n",
    "    \"\"\"3. Evaluate the model using the generated inputs, saving the model outputs.\"\"\"\n",
    "    start = time.time()\n",
    "\n",
    "    Y = np.zeros([param_values.shape[0]])\n",
    "    for i, X in enumerate(param_values):\n",
    "        Y[i] = model(X)\n",
    "    Si = sobol.analyze(problem, Y)\n",
    "\n",
    "    end = time.time()\n",
    "    full_time += (end - start)\n",
    "    print(\"Model evaluation took {} seconds\".format(end - start))\n",
    "    print(\"Si: {}\".format(Si['S1']))\n",
    "    print(f\"Full time: {full_time}\")\n",
    "    print(\"----------\")\n",
    "    return full_time"
   ]
  },
  {
   "cell_type": "markdown",
   "id": "6fdb0832",
   "metadata": {},
   "source": [
    "# Problem formulation"
   ]
  },
  {
   "cell_type": "code",
   "execution_count": 38,
   "id": "2411145f",
   "metadata": {},
   "outputs": [],
   "source": [
    "\"\"\"1. Determine the model inputs (parameters) and their sample range\n",
    "\"\"\"\n",
    "N_VARS = 6\n",
    "problem = {\n",
    "    'num_vars': N_VARS,\n",
    "    'names': [f\"x{i + 1}\" for i in range(N_VARS)],\n",
    "    'bounds': [[-2.0, 2.0] for _ in range(N_VARS)]\n",
    "}\n",
    "\n",
    "\"\"\"2. Run the sample function to generate the model inputs.\"\"\"\n",
    "n = 100000"
   ]
  },
  {
   "cell_type": "code",
   "execution_count": 39,
   "id": "385c2dc4",
   "metadata": {},
   "outputs": [
    {
     "name": "stdout",
     "output_type": "stream",
     "text": [
      "without acceleration\n",
      "Samples generation took 8.28935980796814 seconds\n",
      "Model evaluation took 16.468003034591675 seconds\n",
      "Si: [0.65262683 0.26246096 0.05131471 0.02577939 0.00400679 0.00375024]\n",
      "Full time: 24.757362842559814\n",
      "----------\n"
     ]
    }
   ],
   "source": [
    "t1 = full_template(model, problem, n, \"without acceleration\")"
   ]
  },
  {
   "cell_type": "markdown",
   "id": "f1c10f8e",
   "metadata": {},
   "source": [
    "# 2.1. Numba"
   ]
  },
  {
   "cell_type": "code",
   "execution_count": 40,
   "id": "1645a040",
   "metadata": {},
   "outputs": [],
   "source": [
    "@njit\n",
    "def model_njit(x: np.ndarray):\n",
    "    N = len(x)\n",
    "    sum_ = 0\n",
    "    for i in range(N):\n",
    "        sum_ = sum_ + x[i] ** (N - i)\n",
    "    return sum_"
   ]
  },
  {
   "cell_type": "code",
   "execution_count": 41,
   "id": "feab70df",
   "metadata": {},
   "outputs": [
    {
     "name": "stdout",
     "output_type": "stream",
     "text": [
      "with numba\n",
      "Samples generation took 8.51076602935791 seconds\n",
      "Model evaluation took 13.439954996109009 seconds\n",
      "Si: [0.65262683 0.26246096 0.05131471 0.02577939 0.00400679 0.00375024]\n",
      "Full time: 21.95072102546692\n",
      "----------\n"
     ]
    }
   ],
   "source": [
    "t2 = full_template(model_njit, problem, n, \"with numba\")"
   ]
  },
  {
   "cell_type": "markdown",
   "id": "fd368dbd",
   "metadata": {},
   "source": [
    "Кажется, ускорения не особо получилось. Попробуем использовать list comprehension"
   ]
  },
  {
   "cell_type": "markdown",
   "id": "cc1bd928",
   "metadata": {},
   "source": [
    "# 2.2. List comprehension"
   ]
  },
  {
   "cell_type": "code",
   "execution_count": 42,
   "id": "73c4d460",
   "metadata": {},
   "outputs": [],
   "source": [
    "def model_list(x: np.ndarray):\n",
    "    N = len(x)\n",
    "    return sum([each ** (N - i) for i, each in enumerate(x)])"
   ]
  },
  {
   "cell_type": "code",
   "execution_count": 43,
   "id": "c94b0315",
   "metadata": {},
   "outputs": [
    {
     "name": "stdout",
     "output_type": "stream",
     "text": [
      "with list comprehension\n",
      "Samples generation took 8.170188665390015 seconds\n",
      "Model evaluation took 17.127964973449707 seconds\n",
      "Si: [0.65262683 0.26246096 0.05131471 0.02577939 0.00400679 0.00375024]\n",
      "Full time: 25.29815363883972\n",
      "----------\n"
     ]
    }
   ],
   "source": [
    "t3 = full_template(model_list, problem, n, \"with list comprehension\")"
   ]
  },
  {
   "cell_type": "markdown",
   "id": "7d996111",
   "metadata": {},
   "source": [
    "Так почему-то не лучше, чем naive способ."
   ]
  },
  {
   "cell_type": "markdown",
   "id": "ab6dc107",
   "metadata": {},
   "source": [
    "# 2.3. Pybind11"
   ]
  },
  {
   "cell_type": "markdown",
   "id": "34dc2626",
   "metadata": {},
   "source": [
    "Написал **model_cpp** в **module.cpp**, но почему-то на М1 возникли какие-то проблемы с Pybind11, так и не получилось завести, но файл все равно приложил рядом. Компилировал так же, как на официальном сайте: </br>\n",
    "`g++ -O3 -Wall -shared -std=c++11 -fPIC $(/Users/photosartd/opt/anaconda3/bin/python -m pybind11 --includes) module.cpp -o module.so`"
   ]
  },
  {
   "cell_type": "markdown",
   "id": "7150aa86",
   "metadata": {},
   "source": [
    "# 3. Paralleling"
   ]
  },
  {
   "cell_type": "markdown",
   "id": "ac53d172",
   "metadata": {},
   "source": [
    "Попробуем разбить проблему на **N_VARS** проблем c помощью **multiprocessing**:"
   ]
  },
  {
   "cell_type": "code",
   "execution_count": 44,
   "id": "992fd6be",
   "metadata": {},
   "outputs": [],
   "source": [
    "from multiprocessing import Pool"
   ]
  },
  {
   "cell_type": "code",
   "execution_count": 45,
   "id": "3dfd0432",
   "metadata": {},
   "outputs": [],
   "source": [
    "problems_parellel = [{\n",
    "    \"num_vars\": 1, \"names\": [f\"x{i + 1}\"], \"bounds\": [[-2.0, 2.0]]\n",
    "} for i in range(N_VARS)]"
   ]
  },
  {
   "cell_type": "code",
   "execution_count": 64,
   "id": "1498f6af",
   "metadata": {},
   "outputs": [],
   "source": [
    "COEF = 3.5"
   ]
  },
  {
   "cell_type": "markdown",
   "id": "a7fb3909",
   "metadata": {},
   "source": [
    "Коэффициент выбран по формуле из asltelli.sample для того, чтобы при проблеме с размерностью 1 было сгенерировано такое же число точек (1400000), как и с размерностью 6"
   ]
  },
  {
   "cell_type": "code",
   "execution_count": 65,
   "id": "3541a873",
   "metadata": {},
   "outputs": [
    {
     "name": "stdout",
     "output_type": "stream",
     "text": [
      "Samples generation took 7.098089933395386 seconds\n"
     ]
    },
    {
     "name": "stderr",
     "output_type": "stream",
     "text": [
      "/Users/photosartd/opt/anaconda3/lib/python3.8/site-packages/SALib/sample/saltelli.py:109: UserWarning: \n",
      "        Convergence properties of the Sobol' sequence is only valid if\n",
      "        `N` (350000) is equal to `2^n`.\n",
      "        \n",
      "  warnings.warn(msg)\n",
      "/Users/photosartd/opt/anaconda3/lib/python3.8/site-packages/SALib/sample/saltelli.py:109: UserWarning: \n",
      "        Convergence properties of the Sobol' sequence is only valid if\n",
      "        `N` (350000) is equal to `2^n`.\n",
      "        \n",
      "  warnings.warn(msg)\n",
      "/Users/photosartd/opt/anaconda3/lib/python3.8/site-packages/SALib/sample/saltelli.py:109: UserWarning: \n",
      "        Convergence properties of the Sobol' sequence is only valid if\n",
      "        `N` (350000) is equal to `2^n`.\n",
      "        \n",
      "  warnings.warn(msg)\n",
      "/Users/photosartd/opt/anaconda3/lib/python3.8/site-packages/SALib/sample/saltelli.py:109: UserWarning: \n",
      "        Convergence properties of the Sobol' sequence is only valid if\n",
      "        `N` (350000) is equal to `2^n`.\n",
      "        \n",
      "  warnings.warn(msg)\n",
      "/Users/photosartd/opt/anaconda3/lib/python3.8/site-packages/SALib/sample/saltelli.py:109: UserWarning: \n",
      "        Convergence properties of the Sobol' sequence is only valid if\n",
      "        `N` (350000) is equal to `2^n`.\n",
      "        \n",
      "  warnings.warn(msg)\n",
      "/Users/photosartd/opt/anaconda3/lib/python3.8/site-packages/SALib/sample/saltelli.py:109: UserWarning: \n",
      "        Convergence properties of the Sobol' sequence is only valid if\n",
      "        `N` (350000) is equal to `2^n`.\n",
      "        \n",
      "  warnings.warn(msg)\n"
     ]
    }
   ],
   "source": [
    "start = time.time()\n",
    "with Pool(6) as p:\n",
    "    param_values_list = np.hstack(\n",
    "            p.starmap(\n",
    "            saltelli.sample,\n",
    "            zip(problems_parellel,\n",
    "                [int(n * COEF) for _ in range(N_VARS)]\n",
    "               )\n",
    "        )\n",
    "    )\n",
    "end = time.time()\n",
    "print(\"Samples generation took {} seconds\".format(end - start))"
   ]
  },
  {
   "cell_type": "code",
   "execution_count": 66,
   "id": "377cd016",
   "metadata": {},
   "outputs": [
    {
     "data": {
      "text/plain": [
       "True"
      ]
     },
     "execution_count": 66,
     "metadata": {},
     "output_type": "execute_result"
    }
   ],
   "source": [
    "param_values_list.shape[0] == 1400000"
   ]
  },
  {
   "cell_type": "markdown",
   "id": "1a119d22",
   "metadata": {},
   "source": [
    "Кажется, с помощью мультипроцессинга мы смогли немного распараллелить набрасывание точек."
   ]
  },
  {
   "cell_type": "code",
   "execution_count": 71,
   "id": "2d6d4a30",
   "metadata": {},
   "outputs": [
    {
     "name": "stdout",
     "output_type": "stream",
     "text": [
      "1400000\n",
      "Model evaluation took 13.68556809425354 seconds\n"
     ]
    }
   ],
   "source": [
    "start = time.time()\n",
    "\n",
    "print(param_values_list.shape[0])\n",
    "Y = np.zeros([param_values_list.shape[0]])\n",
    "for i, X in enumerate(param_values_list):\n",
    "    Y[i] = model_njit(X)\n",
    "Si = sobol.analyze(problem, Y)\n",
    "\n",
    "end = time.time()\n",
    "print(\"Model evaluation took {} seconds\".format(end - start))"
   ]
  },
  {
   "cell_type": "markdown",
   "id": "aac8330b",
   "metadata": {},
   "source": [
    "Пока мы смогли сократить время с 24 до 20 секунд, но при бОльшем числе переменных разница будет увеличиваться"
   ]
  }
 ],
 "metadata": {
  "kernelspec": {
   "display_name": "Python 3 (ipykernel)",
   "language": "python",
   "name": "python3"
  },
  "language_info": {
   "codemirror_mode": {
    "name": "ipython",
    "version": 3
   },
   "file_extension": ".py",
   "mimetype": "text/x-python",
   "name": "python",
   "nbconvert_exporter": "python",
   "pygments_lexer": "ipython3",
   "version": "3.8.12"
  }
 },
 "nbformat": 4,
 "nbformat_minor": 5
}
